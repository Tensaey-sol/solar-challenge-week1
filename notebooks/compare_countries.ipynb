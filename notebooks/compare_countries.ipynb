{
 "cells": [
  {
   "cell_type": "code",
   "execution_count": null,
   "id": "26e0cb1e",
   "metadata": {},
   "outputs": [],
   "source": [
    "import sys, os\n",
    "sys.path.insert(0, os.path.abspath('..')) \n",
    "\n",
    "from scripts.compare_utils import (\n",
    "    load_country_data, plot_irradiance_boxplots, generate_summary_table,\n",
    "    perform_stat_tests, plot_avg_ghi_bar, generate_key_observations\n",
    ")\n",
    "from IPython.display import Markdown\n",
    "\n",
    "# Create figures directory if it doesn't exist\n",
    "os.makedirs('figures', exist_ok=True)\n",
    "\n",
    "# Load and combine data from different countries\n",
    "files = {\n",
    "    'Benin': '../data/benin-malanville_clean.csv',\n",
    "    'Sierra Leone': '../data/sierraleone-bumbuna_clean.csv',\n",
    "    'Togo': '../data/togo-dapaong_qc_clean.csv'\n",
    "}\n",
    "\n",
    "try:\n",
    "    df_combined = load_country_data(files)\n",
    "except Exception as e:\n",
    "    print(f\"Error loading data: {e}\")\n",
    "    sys.exit(1)\n",
    "\n",
    "# Boxplots\n",
    "plot_irradiance_boxplots(df_combined)\n",
    "\n",
    "# Summary table\n",
    "summary = generate_summary_table(df_combined)\n",
    "print(\"Summary Table:\")\n",
    "print(summary.to_markdown())\n",
    "\n",
    "# Statistical tests\n",
    "stat_results = perform_stat_tests(df_combined)\n",
    "for metric, result in stat_results.items():\n",
    "    print(f\"\\n{metric} Statistical Tests:\")\n",
    "    print(f\"ANOVA: F={result['ANOVA']['F-statistic']}, p={result['ANOVA']['p-value']} ({result['ANOVA']['Significance']})\")\n",
    "    print(f\"Kruskal–Wallis: H={result['Kruskal–Wallis']['H-statistic']}, p={result['Kruskal–Wallis']['p-value']} ({result['Kruskal–Wallis']['Significance']})\")\n",
    "\n",
    "# Key Observations\n",
    "observations = generate_key_observations(df_combined, stat_results)\n",
    "display(Markdown(\"### Key Observations\\n\" + observations))\n",
    "\n",
    "# Bonus: bar chart\n",
    "bar_chart = plot_avg_ghi_bar(df_combined)\n",
    "display(bar_chart)"
   ]
  }
 ],
 "metadata": {
  "kernelspec": {
   "display_name": ".venv",
   "language": "python",
   "name": "python3"
  },
  "language_info": {
   "codemirror_mode": {
    "name": "ipython",
    "version": 3
   },
   "file_extension": ".py",
   "mimetype": "text/x-python",
   "name": "python",
   "nbconvert_exporter": "python",
   "pygments_lexer": "ipython3",
   "version": "3.13.1"
  }
 },
 "nbformat": 4,
 "nbformat_minor": 5
}
